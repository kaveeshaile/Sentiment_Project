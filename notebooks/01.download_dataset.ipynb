{
 "cells": [
  {
   "cell_type": "code",
   "execution_count": 1,
   "metadata": {},
   "outputs": [],
   "source": [
    "import numpy as np"
   ]
  },
  {
   "cell_type": "code",
   "execution_count": 2,
   "metadata": {},
   "outputs": [],
   "source": [
    "import json\n",
    "with open('../artifacts/kaggle.json', 'r') as file:\n",
    "    data = json.load(file)"
   ]
  },
  {
   "cell_type": "code",
   "execution_count": 3,
   "metadata": {},
   "outputs": [
    {
     "data": {
      "text/plain": [
       "{'username': 'kaveesham', 'key': '36c283b3e5660e5c483efe36b3fd8217'}"
      ]
     },
     "execution_count": 3,
     "metadata": {},
     "output_type": "execute_result"
    }
   ],
   "source": [
    "data"
   ]
  },
  {
   "cell_type": "code",
   "execution_count": 4,
   "metadata": {},
   "outputs": [
    {
     "name": "stdout",
     "output_type": "stream",
     "text": [
      "Collecting kaggle\n",
      "  Downloading kaggle-1.6.6.tar.gz (84 kB)\n",
      "     ---------------------------------------- 0.0/84.6 kB ? eta -:--:--\n",
      "     --------------------------------- ------ 71.7/84.6 kB 1.3 MB/s eta 0:00:01\n",
      "     -------------------------------------- - 81.9/84.6 kB 1.5 MB/s eta 0:00:01\n",
      "     -------------------------------------- - 81.9/84.6 kB 1.5 MB/s eta 0:00:01\n",
      "     -------------------------------------- - 81.9/84.6 kB 1.5 MB/s eta 0:00:01\n",
      "     -------------------------------------- - 81.9/84.6 kB 1.5 MB/s eta 0:00:01\n",
      "     -------------------------------------- - 81.9/84.6 kB 1.5 MB/s eta 0:00:01\n",
      "     -------------------------------------- - 81.9/84.6 kB 1.5 MB/s eta 0:00:01\n",
      "     -------------------------------------- - 81.9/84.6 kB 1.5 MB/s eta 0:00:01\n",
      "     -------------------------------------- - 81.9/84.6 kB 1.5 MB/s eta 0:00:01\n",
      "     -------------------------------------- - 81.9/84.6 kB 1.5 MB/s eta 0:00:01\n",
      "     -------------------------------------- - 81.9/84.6 kB 1.5 MB/s eta 0:00:01\n",
      "     -------------------------------------- - 81.9/84.6 kB 1.5 MB/s eta 0:00:01\n",
      "     -------------------------------------- - 81.9/84.6 kB 1.5 MB/s eta 0:00:01\n",
      "     -------------------------------------- - 81.9/84.6 kB 1.5 MB/s eta 0:00:01\n",
      "     -------------------------------------- - 81.9/84.6 kB 1.5 MB/s eta 0:00:01\n",
      "     -------------------------------------- - 81.9/84.6 kB 1.5 MB/s eta 0:00:01\n",
      "     -------------------------------------- - 81.9/84.6 kB 1.5 MB/s eta 0:00:01\n",
      "     -------------------------------------- - 81.9/84.6 kB 1.5 MB/s eta 0:00:01\n",
      "     -------------------------------------- - 81.9/84.6 kB 1.5 MB/s eta 0:00:01\n",
      "     -------------------------------------- - 81.9/84.6 kB 1.5 MB/s eta 0:00:01\n",
      "     -------------------------------------- - 81.9/84.6 kB 1.5 MB/s eta 0:00:01\n",
      "     -------------------------------------- - 81.9/84.6 kB 1.5 MB/s eta 0:00:01\n",
      "     --------------------------------------- 84.6/84.6 kB 68.9 kB/s eta 0:00:00\n",
      "  Preparing metadata (setup.py): started\n",
      "  Preparing metadata (setup.py): finished with status 'done'\n",
      "Requirement already satisfied: six>=1.10 in c:\\users\\hp\\desktop\\sentiment_project\\env\\lib\\site-packages (from kaggle) (1.16.0)\n",
      "Requirement already satisfied: certifi in c:\\users\\hp\\desktop\\sentiment_project\\env\\lib\\site-packages (from kaggle) (2024.2.2)\n",
      "Requirement already satisfied: python-dateutil in c:\\users\\hp\\desktop\\sentiment_project\\env\\lib\\site-packages (from kaggle) (2.8.2)\n",
      "Requirement already satisfied: requests in c:\\users\\hp\\desktop\\sentiment_project\\env\\lib\\site-packages (from kaggle) (2.31.0)\n",
      "Collecting tqdm (from kaggle)\n",
      "  Downloading tqdm-4.66.2-py3-none-any.whl.metadata (57 kB)\n",
      "     ---------------------------------------- 0.0/57.6 kB ? eta -:--:--\n",
      "     ----------------------------------- ---- 51.2/57.6 kB ? eta -:--:--\n",
      "     -------------------------------------- 57.6/57.6 kB 763.7 kB/s eta 0:00:00\n",
      "Collecting python-slugify (from kaggle)\n",
      "  Downloading python_slugify-8.0.4-py2.py3-none-any.whl.metadata (8.5 kB)\n",
      "Requirement already satisfied: urllib3 in c:\\users\\hp\\desktop\\sentiment_project\\env\\lib\\site-packages (from kaggle) (2.2.1)\n",
      "Requirement already satisfied: bleach in c:\\users\\hp\\desktop\\sentiment_project\\env\\lib\\site-packages (from kaggle) (6.1.0)\n",
      "Requirement already satisfied: webencodings in c:\\users\\hp\\desktop\\sentiment_project\\env\\lib\\site-packages (from bleach->kaggle) (0.5.1)\n",
      "Collecting text-unidecode>=1.3 (from python-slugify->kaggle)\n",
      "  Downloading text_unidecode-1.3-py2.py3-none-any.whl (78 kB)\n",
      "     ---------------------------------------- 0.0/78.2 kB ? eta -:--:--\n",
      "     -------------------- ------------------- 41.0/78.2 kB ? eta -:--:--\n",
      "     ---------------------------------- --- 71.7/78.2 kB 777.7 kB/s eta 0:00:01\n",
      "     ---------------------------------- --- 71.7/78.2 kB 777.7 kB/s eta 0:00:01\n",
      "     -------------------------------------- 78.2/78.2 kB 481.7 kB/s eta 0:00:00\n",
      "Requirement already satisfied: charset-normalizer<4,>=2 in c:\\users\\hp\\desktop\\sentiment_project\\env\\lib\\site-packages (from requests->kaggle) (3.3.2)\n",
      "Requirement already satisfied: idna<4,>=2.5 in c:\\users\\hp\\desktop\\sentiment_project\\env\\lib\\site-packages (from requests->kaggle) (3.6)\n",
      "Requirement already satisfied: colorama in c:\\users\\hp\\desktop\\sentiment_project\\env\\lib\\site-packages (from tqdm->kaggle) (0.4.6)\n",
      "Downloading python_slugify-8.0.4-py2.py3-none-any.whl (10 kB)\n",
      "Downloading tqdm-4.66.2-py3-none-any.whl (78 kB)\n",
      "   ---------------------------------------- 0.0/78.3 kB ? eta -:--:--\n",
      "   ---------------------------------------- 78.3/78.3 kB 2.1 MB/s eta 0:00:00\n",
      "Building wheels for collected packages: kaggle\n",
      "  Building wheel for kaggle (setup.py): started\n",
      "  Building wheel for kaggle (setup.py): finished with status 'done'\n",
      "  Created wheel for kaggle: filename=kaggle-1.6.6-py3-none-any.whl size=111953 sha256=30f57bca527679f1c8c580455cf5423e0d0ecfc0665e1e4b136e82bf60fa6623\n",
      "  Stored in directory: c:\\users\\hp\\appdata\\local\\pip\\cache\\wheels\\46\\aa\\c3\\b3e421522fb5acdd7c366a05c5fc80787615bdeed207e7f79b\n",
      "Successfully built kaggle\n",
      "Installing collected packages: text-unidecode, tqdm, python-slugify, kaggle\n",
      "Successfully installed kaggle-1.6.6 python-slugify-8.0.4 text-unidecode-1.3 tqdm-4.66.2\n"
     ]
    }
   ],
   "source": [
    "!pip install kaggle"
   ]
  },
  {
   "cell_type": "code",
   "execution_count": 5,
   "metadata": {},
   "outputs": [],
   "source": [
    "import os\n",
    "os.environ['KAGGLE_USERNAME'] = data['username']\n",
    "os.environ['KAGGLE_KEY'] = data['key']"
   ]
  },
  {
   "cell_type": "code",
   "execution_count": 6,
   "metadata": {},
   "outputs": [],
   "source": [
    "from kaggle.api.kaggle_api_extended import KaggleApi\n",
    "api = KaggleApi()\n",
    "api.authenticate()"
   ]
  },
  {
   "cell_type": "code",
   "execution_count": null,
   "metadata": {},
   "outputs": [],
   "source": [
    "api.dataset_download_files('dineshpiyasamara/sentiment-analysis-dataset', path='../artifacts/')"
   ]
  },
  {
   "cell_type": "code",
   "execution_count": null,
   "metadata": {},
   "outputs": [],
   "source": [
    "import zipfile\n",
    "with zipfile.ZipFile('../artifacts/sentiment-analysis-dataset.zip', 'r') as zip_ref:\n",
    "    zip_ref.extractall('../artifacts/')"
   ]
  },
  {
   "cell_type": "code",
   "execution_count": null,
   "metadata": {},
   "outputs": [],
   "source": []
  }
 ],
 "metadata": {
  "kernelspec": {
   "display_name": "Python 3 (ipykernel)",
   "language": "python",
   "name": "python3"
  },
  "language_info": {
   "codemirror_mode": {
    "name": "ipython",
    "version": 3
   },
   "file_extension": ".py",
   "mimetype": "text/x-python",
   "name": "python",
   "nbconvert_exporter": "python",
   "pygments_lexer": "ipython3",
   "version": "3.9.7"
  }
 },
 "nbformat": 4,
 "nbformat_minor": 4
}
